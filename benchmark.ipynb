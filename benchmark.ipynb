{
 "cells": [
  {
   "cell_type": "code",
   "execution_count": null,
   "metadata": {},
   "outputs": [],
   "source": [
    "from matplotlib import pyplot as plt\n",
    "\n",
    "\n",
    "csv_filename = 'results2.csv'\n",
    "\n",
    "results = {}\n",
    "\n",
    "with open(csv_filename, mode='r') as file:\n",
    "    reader = csv.DictReader(file)\n",
    "    for row in reader:\n",
    "        program_name = row['Program']\n",
    "        file_name = row['File']\n",
    "        dp = int(row['Depth'])\n",
    "        avg_throughput_rate = float(row['Average Throughput Rate (MB/s)'])\n",
    "\n",
    "        if program_name not in results:\n",
    "            results[program_name] = {}\n",
    "        if file_name not in results[program_name]:\n",
    "            results[program_name][file_name] = {}\n",
    "\n",
    "        if dp not in results[program_name][file_name]:\n",
    "            results[program_name][file_name][dp] = []\n",
    "        \n",
    "        results[program_name][file_name][dp].append(avg_throughput_rate)\n",
    "\n",
    "for file_name in {file_name for program_data in results.values() for file_name in program_data.keys()}:\n",
    "    plt.figure()\n",
    "    for program_name in results.keys():\n",
    "        if file_name in results[program_name]:\n",
    "            depths = sorted(results[program_name][file_name].keys())\n",
    "            rates = [results[program_name][file_name][d] for d in depths]\n",
    "            plt.plot([x for x in depths], rates, marker='o', label=program_name)\n",
    "    \n",
    "    plt.xlabel('Depth')\n",
    "    plt.ylabel('Average Throughput Rate (MB/s)')\n",
    "    plt.title(f'Average Throughput Rate for {file_name}')\n",
    "    plt.legend()\n",
    "    plt.grid(True)\n",
    "\n",
    "    plt.xticks(depths, [str(d) for d in depths])\n",
    "\n",
    "    plt.savefig(f\"./result/{file_name}_throughput.png\")\n",
    "    plt.show()"
   ]
  },
  {
   "cell_type": "code",
   "execution_count": null,
   "metadata": {},
   "outputs": [],
   "source": [
    "\n",
    "import glob\n",
    "\n",
    "current_directory = os.getcwd()\n",
    "files = glob.glob(os.path.join(current_directory, '*.fth'))\n",
    "files += glob.glob(os.path.join(current_directory, '*.c'))\n",
    "files += glob.glob(os.path.join(current_directory, '*.out'))\n",
    "files += glob.glob(os.path.join(current_directory, '*.rs'))\n",
    "for file in files:\n",
    "    try:\n",
    "        os.remove(file)\n",
    "        print(f'Deleted: {file}')\n",
    "    except Exception as e:\n",
    "        print(f'Error deleting {file}: {e}')\n"
   ]
  },
  {
   "cell_type": "code",
   "execution_count": null,
   "metadata": {},
   "outputs": [],
   "source": []
  }
 ],
 "metadata": {
  "kernelspec": {
   "display_name": "Python 3",
   "language": "python",
   "name": "python3"
  },
  "language_info": {
   "codemirror_mode": {
    "name": "ipython",
    "version": 3
   },
   "file_extension": ".py",
   "mimetype": "text/x-python",
   "name": "python",
   "nbconvert_exporter": "python",
   "pygments_lexer": "ipython3",
   "version": "3.11.10"
  }
 },
 "nbformat": 4,
 "nbformat_minor": 2
}
