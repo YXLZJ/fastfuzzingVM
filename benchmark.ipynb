{
 "cells": [
  {
   "cell_type": "code",
   "execution_count": 1,
   "metadata": {},
   "outputs": [],
   "source": [
    "import time\n",
    "import subprocess\n",
    "import matplotlib.pyplot as plt\n",
    "import psutil\n",
    "import os\n",
    "import re\n",
    "import threading\n",
    "import csv\n",
    "import signal\n",
    "import numpy as np\n",
    "import math"
   ]
  },
  {
   "cell_type": "code",
   "execution_count": 2,
   "metadata": {},
   "outputs": [],
   "source": [
    "programs = [\"/Users/apple/gForthVM/DT_generator\",\"/Users/apple/gForthVM/IDT_generator\",\"/Users/apple/gForthVM/subroutine_generator\"]"
   ]
  },
  {
   "cell_type": "code",
   "execution_count": 3,
   "metadata": {},
   "outputs": [
    {
     "name": "stdout",
     "output_type": "stream",
     "text": [
      "['math.json', 'recursive.json', 'simple_grammar.json', 'css.json', 'html.json']\n"
     ]
    }
   ],
   "source": [
    "directory = './grammars'\n",
    "files = os.listdir(directory)\n",
    "print(files)"
   ]
  },
  {
   "cell_type": "code",
   "execution_count": 4,
   "metadata": {},
   "outputs": [],
   "source": [
    "depth = [1,2,4,8,16,32,64,128,256,512,1024,2048]"
   ]
  },
  {
   "cell_type": "code",
   "execution_count": 6,
   "metadata": {},
   "outputs": [
    {
     "name": "stdout",
     "output_type": "stream",
     "text": [
      "/Users/apple/gForthVM/DT_generator math.json 1 62946.40337372072\n",
      "/Users/apple/gForthVM/DT_generator math.json 2 51701.2419632682\n",
      "/Users/apple/gForthVM/DT_generator math.json 4 22664.506088615486\n",
      "/Users/apple/gForthVM/DT_generator math.json 8 17.725255423416122\n",
      "/Users/apple/gForthVM/DT_generator math.json 16 4.345733746036393\n",
      "/Users/apple/gForthVM/DT_generator math.json 32 2.836633588106156\n"
     ]
    },
    {
     "ename": "KeyboardInterrupt",
     "evalue": "",
     "output_type": "error",
     "traceback": [
      "\u001b[0;31m---------------------------------------------------------------------------\u001b[0m",
      "\u001b[0;31mKeyboardInterrupt\u001b[0m                         Traceback (most recent call last)",
      "Cell \u001b[0;32mIn[6], line 47\u001b[0m\n\u001b[1;32m     45\u001b[0m monitor_thread\u001b[38;5;241m.\u001b[39mdaemon \u001b[38;5;241m=\u001b[39m \u001b[38;5;28;01mTrue\u001b[39;00m  \n\u001b[1;32m     46\u001b[0m monitor_thread\u001b[38;5;241m.\u001b[39mstart()\n\u001b[0;32m---> 47\u001b[0m \u001b[43mread_output\u001b[49m\u001b[43m(\u001b[49m\u001b[43mprocess\u001b[49m\u001b[43m)\u001b[49m\n\u001b[1;32m     48\u001b[0m monitor_thread\u001b[38;5;241m.\u001b[39mjoin()\n\u001b[1;32m     49\u001b[0m \u001b[38;5;28;01mif\u001b[39;00m process\u001b[38;5;241m.\u001b[39mpoll() \u001b[38;5;129;01mis\u001b[39;00m \u001b[38;5;28;01mNone\u001b[39;00m:\n",
      "Cell \u001b[0;32mIn[6], line 16\u001b[0m, in \u001b[0;36mread_output\u001b[0;34m(process)\u001b[0m\n\u001b[1;32m     14\u001b[0m \u001b[38;5;28;01mglobal\u001b[39;00m throughput_rates\n\u001b[1;32m     15\u001b[0m \u001b[38;5;28;01mwhile\u001b[39;00m \u001b[38;5;28;01mTrue\u001b[39;00m:\n\u001b[0;32m---> 16\u001b[0m     output \u001b[38;5;241m=\u001b[39m process\u001b[38;5;241m.\u001b[39mstdout\u001b[38;5;241m.\u001b[39mreadline()\n\u001b[1;32m     17\u001b[0m     \u001b[38;5;28;01mif\u001b[39;00m process\u001b[38;5;241m.\u001b[39mpoll() \u001b[38;5;129;01mis\u001b[39;00m \u001b[38;5;129;01mnot\u001b[39;00m \u001b[38;5;28;01mNone\u001b[39;00m \u001b[38;5;129;01mand\u001b[39;00m output \u001b[38;5;241m==\u001b[39m \u001b[38;5;124m'\u001b[39m\u001b[38;5;124m'\u001b[39m:\n\u001b[1;32m     18\u001b[0m         \u001b[38;5;28;01mbreak\u001b[39;00m\n",
      "\u001b[0;31mKeyboardInterrupt\u001b[0m: "
     ]
    }
   ],
   "source": [
    "throughput_rates = []\n",
    "\n",
    "def monitor_process(process, timeout):\n",
    "    time.sleep(timeout)\n",
    "    if process.poll() is None:  \n",
    "        process.terminate()\n",
    "        try:\n",
    "            process.wait(timeout=5)\n",
    "        except subprocess.TimeoutExpired:\n",
    "            process.kill()\n",
    "            print(\"Process was killed after timeout\")\n",
    "\n",
    "def read_output(process):\n",
    "    global throughput_rates\n",
    "    while True:\n",
    "        output = process.stdout.readline()\n",
    "        if process.poll() is not None and output == '':\n",
    "            break\n",
    "        if output:\n",
    "            match = re.search(r'^(\\d+\\.\\d+) KB/s$', output)  # Modified regular expression pattern\n",
    "            if match:\n",
    "                throughput_rate = float(match.group(1))\n",
    "                throughput_rates.append(throughput_rate)\n",
    "\n",
    "\n",
    "result = {}\n",
    "timeout = 10\n",
    "\n",
    "for i in range(len(programs)):\n",
    "    program_name = programs[i]\n",
    "    result[program_name] = {}\n",
    "    for j in range(len(files)):\n",
    "        file_name = files[j]\n",
    "        result[program_name][file_name] = {}\n",
    "        for k in range(len(depth)):\n",
    "            depth_value = depth[k]\n",
    "            throughput_rates = []\n",
    "            process = subprocess.Popen(\n",
    "                [program_name, \"-depth\", str(depth[k]), \"-path\", f\"./grammars/{files[j]}\", \"-o\", f\"{file_name}.fth\", \"--show\"],\n",
    "                stderr=subprocess.PIPE,\n",
    "                stdout=subprocess.PIPE,\n",
    "                text=True,\n",
    "            )\n",
    "            monitor_thread = threading.Thread(target=monitor_process, args=(process, timeout))\n",
    "            monitor_thread.daemon = True  \n",
    "            monitor_thread.start()\n",
    "            read_output(process)\n",
    "            monitor_thread.join()\n",
    "            if process.poll() is None:\n",
    "                process.terminate()\n",
    "                try:\n",
    "                    process.wait(timeout=5)\n",
    "                except subprocess.TimeoutExpired:\n",
    "                    process.kill()\n",
    "            if throughput_rates:\n",
    "                avg_throughput_rate = sum(throughput_rates) / len(throughput_rates)\n",
    "            else:\n",
    "                avg_throughput_rate = 0\n",
    "            result[program_name][file_name][depth_value] = avg_throughput_rate\n",
    "            print(f\"{program_name} {file_name} {depth_value} {avg_throughput_rate}\")\n",
    "print(result)\n"
   ]
  }
 ],
 "metadata": {
  "kernelspec": {
   "display_name": "Python 3",
   "language": "python",
   "name": "python3"
  },
  "language_info": {
   "codemirror_mode": {
    "name": "ipython",
    "version": 3
   },
   "file_extension": ".py",
   "mimetype": "text/x-python",
   "name": "python",
   "nbconvert_exporter": "python",
   "pygments_lexer": "ipython3",
   "version": "3.11.9"
  }
 },
 "nbformat": 4,
 "nbformat_minor": 2
}
